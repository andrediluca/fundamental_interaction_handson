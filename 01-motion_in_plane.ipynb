{
 "cells": [
  {
   "cell_type": "code",
   "execution_count": null,
   "id": "undefined-deadline",
   "metadata": {},
   "outputs": [],
   "source": [
    "%matplotlib notebook\n",
    "\n",
    "import numpy as np\n",
    "import math \n",
    "\n",
    "import matplotlib.pyplot as plt\n",
    "import matplotlib.animation as animation\n",
    "from matplotlib.widgets import Slider, RadioButtons"
   ]
  },
  {
   "cell_type": "code",
   "execution_count": null,
   "id": "fatty-connecticut",
   "metadata": {},
   "outputs": [],
   "source": [
    "def uniform(t, v, t0 = 0):\n",
    "    ''''\n",
    "    Uniform motion along a line\n",
    "    '''\n",
    "    x = v*(t-t0)\n",
    "    x[t-t0 < 0] = 0\n",
    "    return x"
   ]
  },
  {
   "cell_type": "code",
   "execution_count": null,
   "id": "bulgarian-journalism",
   "metadata": {},
   "outputs": [],
   "source": [
    "def acc(t, a,v0=0, t0 = 0):\n",
    "    ''''\n",
    "    Accelerated motion along a line\n",
    "    '''\n",
    "    print(t0)\n",
    "    print(a)\n",
    "    x = v0*(t-t0) + 1./2.*a* (t-t0)**2\n",
    "    x[t-t0 < 0] = 0\n",
    "    return x"
   ]
  },
  {
   "cell_type": "code",
   "execution_count": null,
   "id": "federal-joining",
   "metadata": {},
   "outputs": [],
   "source": [
    "t = np.linspace(0,5,3000)"
   ]
  },
  {
   "cell_type": "code",
   "execution_count": null,
   "id": "sized-camera",
   "metadata": {},
   "outputs": [],
   "source": [
    "v = 5\n",
    "t0 =2"
   ]
  },
  {
   "cell_type": "code",
   "execution_count": null,
   "id": "final-violin",
   "metadata": {},
   "outputs": [],
   "source": [
    "x_uniform = uniform(t, v, t0=t0)"
   ]
  },
  {
   "cell_type": "code",
   "execution_count": null,
   "id": "improved-major",
   "metadata": {},
   "outputs": [],
   "source": [
    "a=2"
   ]
  },
  {
   "cell_type": "code",
   "execution_count": null,
   "id": "undefined-concept",
   "metadata": {},
   "outputs": [],
   "source": [
    "x_acc = acc(t,a)"
   ]
  },
  {
   "cell_type": "code",
   "execution_count": null,
   "id": "overhead-ancient",
   "metadata": {},
   "outputs": [],
   "source": [
    "fig, ax = plt.subplots(figsize=(8,8))\n",
    "l_u, = plt.plot(t,x_uniform)\n",
    "l_a, = plt.plot(t,x_acc)\n",
    "axv0 = plt.axes([0.25, 0.96, 0.50, 0.02])\n",
    "axacc = plt.axes([0.25, 0.91, 0.50, 0.02])\n",
    "\n",
    "# Slider\n",
    "sv0 = Slider(axv0, '$v_0$', 0, 30, valinit=v)\n",
    "sacc = Slider(axacc, '$a$', 0, 30, valinit=a)\n",
    "\n",
    "\n",
    "\n",
    "\n",
    "def update(val):\n",
    "    # amp is the current value of the slider\n",
    "    v0 = sv0.val\n",
    "    a=sacc.val\n",
    "    # update curve\n",
    "    x_uniform = uniform(t, v0, t0=t0)\n",
    "    x_acc = acc(t,a)\n",
    "    l_u.set_ydata(x_uniform)\n",
    "    l_a.set_ydata(x_acc)\n",
    "  \n",
    "    # redraw canvas while idle\n",
    "    fig.canvas.draw_idle()\n",
    "\n",
    "sv0.on_changed(update)\n",
    "sacc.on_changed(update)\n",
    "rax = plt.axes([0.2, 0.7, 0.15, 0.15])\n",
    "radio = RadioButtons(rax, ('Car', 'Projectile', 'Both'), active=0)\n",
    "\n",
    "\n",
    "def colorfunc(label):\n",
    "    l_a.set_alpha(1)\n",
    "    l_u.set_alpha(1)\n",
    "    if label == 'Car':\n",
    "        l_a.set_alpha(1)\n",
    "        l_u.set_alpha(0)\n",
    "    if label == 'Projectile':\n",
    "        l_a.set_alpha(0)\n",
    "        l_u.set_alpha(1)\n",
    "    fig.canvas.draw_idle()\n",
    "\n",
    "radio.on_clicked(colorfunc)\n",
    "\n",
    "# Initialize plot with correct initial active value\n",
    "colorfunc(radio.value_selected)\n",
    "\n",
    "plt.ylim(0,100)\n",
    "plt.show()"
   ]
  },
  {
   "cell_type": "markdown",
   "id": "announced-decrease",
   "metadata": {},
   "source": [
    "## Uniform circular motion"
   ]
  },
  {
   "cell_type": "code",
   "execution_count": null,
   "id": "ancient-comedy",
   "metadata": {},
   "outputs": [],
   "source": [
    "x = np.cos(t)\n",
    "y = np.sin(t)"
   ]
  },
  {
   "cell_type": "code",
   "execution_count": null,
   "id": "through-customs",
   "metadata": {},
   "outputs": [],
   "source": []
  },
  {
   "cell_type": "code",
   "execution_count": null,
   "id": "effective-respondent",
   "metadata": {},
   "outputs": [],
   "source": [
    "fig, ax = plt.subplots(figsize=(8,8))\n",
    "\n",
    "plt.plot(x,y)\n",
    "plt.show()"
   ]
  },
  {
   "cell_type": "markdown",
   "id": "imperial-minnesota",
   "metadata": {},
   "source": [
    "## Projectile motion\n"
   ]
  },
  {
   "cell_type": "code",
   "execution_count": null,
   "id": "speaking-bobby",
   "metadata": {},
   "outputs": [],
   "source": [
    "def projectile_motion_y(t, theta, v0, x0 =0, y0=0, t0 = 0, a = -9.81, deg=True, ground=True):\n",
    "    '''    \n",
    "    Returns \n",
    "    '''\n",
    "    if deg:\n",
    "        theta = np.radians(theta)\n",
    "    x = x0 + v0 * np.cos(theta)* (t-t0)\n",
    "    vx = np.full(len(t), v0*np.cos(theta))\n",
    "    y = y0 + v0 * np.sin(theta)* (t-t0) + 1./2. * a * (t-t0)*(t-t0)\n",
    "    vy = v0*np.sin(theta) +  a * (t-t0)\n",
    "    if ground:\n",
    "        y[y < 0] = 0\n",
    "        x[y <= 0] = 0\n",
    "        x[np.nonzero(x)[0][-1]:] = x[np.nonzero(x)[0][-1]]\n",
    "        \n",
    "#     x[t-t0 < 0] = 0\n",
    "#     y[t-t0 < 0] = 0\n",
    "       \n",
    "    return x, y, vx, vy"
   ]
  },
  {
   "cell_type": "code",
   "execution_count": null,
   "id": "noticed-immigration",
   "metadata": {},
   "outputs": [],
   "source": [
    "theta0 = 30\n",
    "v0 = 10\n",
    "a = -9.8\n",
    "y0 = 100"
   ]
  },
  {
   "cell_type": "code",
   "execution_count": null,
   "id": "improved-pakistan",
   "metadata": {},
   "outputs": [],
   "source": [
    "x, y, vx, vy = projectile_motion_y(t, theta = theta0, v0 = v0, a=a)\n"
   ]
  },
  {
   "cell_type": "code",
   "execution_count": null,
   "id": "threaded-neighbor",
   "metadata": {},
   "outputs": [],
   "source": [
    "y"
   ]
  },
  {
   "cell_type": "code",
   "execution_count": null,
   "id": "pursuant-spectrum",
   "metadata": {},
   "outputs": [],
   "source": [
    "x, y, vx, vy = projectile_motion_y(t, theta = theta0, v0 = v0, y0=y0, a=a)\n",
    "fig, ax = plt.subplots(3)\n",
    "fig.subplots_adjust( hspace=.5)\n",
    "\n",
    "traj, = ax[0].plot(x,y)\n",
    "l_y, = ax[1].plot(t,y)\n",
    "l_x, = ax[2].plot(t,x)\n",
    "\n",
    "\n",
    "axv0 = plt.axes([0.25, 0.96, 0.50, 0.02])\n",
    "axacc = plt.axes([0.25, 0.93, 0.50, 0.02])\n",
    "axtheta = plt.axes([0.25, 0.89, 0.50, 0.02])\n",
    "\n",
    "# Slider\n",
    "sv0 = Slider(axv0, '$v_0$', 0, 20, valinit=v0)\n",
    "sacc = Slider(axacc, '$a$', -100, 0, valinit=a)\n",
    "stheta = Slider(axtheta, '$\\\\theta$', 0, 90, valinit=theta0)\n",
    "\n",
    "\n",
    "\n",
    "\n",
    "def update(val):\n",
    "    # amp is the current value of the slider\n",
    "    v0 = sv0.val\n",
    "    a=sacc.val\n",
    "    theta = stheta.val\n",
    "    # update curve\n",
    "    x, y, vx, vy = projectile_motion_y(t, theta = theta, v0 = v0,y0=y0, a=a)\n",
    "    traj.set_xdata(x)\n",
    "    traj.set_ydata(y)\n",
    "    ax[0].relim()\n",
    "    ax[0].autoscale_view()\n",
    "    l_y.set_ydata(y)\n",
    "    ax[1].relim()\n",
    "    ax[1].autoscale_view()\n",
    "    l_x.set_ydata(x)\n",
    "    ax[2].relim()\n",
    "    ax[2].autoscale_view()\n",
    "\n",
    "    fig.canvas.draw_idle()\n",
    "\n",
    "sv0.on_changed(update)\n",
    "sacc.on_changed(update)\n",
    "stheta.on_changed(update)\n",
    "\n",
    "plt.show()"
   ]
  },
  {
   "cell_type": "code",
   "execution_count": null,
   "id": "daily-first",
   "metadata": {},
   "outputs": [],
   "source": []
  },
  {
   "cell_type": "code",
   "execution_count": null,
   "id": "critical-trout",
   "metadata": {},
   "outputs": [],
   "source": []
  }
 ],
 "metadata": {
  "kernelspec": {
   "display_name": "Python 3",
   "language": "python",
   "name": "python3"
  },
  "language_info": {
   "codemirror_mode": {
    "name": "ipython",
    "version": 3
   },
   "file_extension": ".py",
   "mimetype": "text/x-python",
   "name": "python",
   "nbconvert_exporter": "python",
   "pygments_lexer": "ipython3",
   "version": "3.8.8"
  }
 },
 "nbformat": 4,
 "nbformat_minor": 5
}
