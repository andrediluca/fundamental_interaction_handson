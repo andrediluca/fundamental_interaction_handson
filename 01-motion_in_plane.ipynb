{
 "cells": [
  {
   "cell_type": "code",
   "execution_count": null,
   "id": "undefined-deadline",
   "metadata": {},
   "outputs": [],
   "source": [
    "%matplotlib notebook\n",
    "\n",
    "import numpy as np\n",
    "import matplotlib.pyplot as plt\n",
    "import matplotlib.animation as animation\n",
    "from matplotlib.widgets import Slider, RadioButtons"
   ]
  },
  {
   "cell_type": "code",
   "execution_count": null,
   "id": "fatty-connecticut",
   "metadata": {},
   "outputs": [],
   "source": [
    "def uniform(t, v, t0 = 0):\n",
    "    ''''\n",
    "    Uniform motion along a line\n",
    "    '''\n",
    "    x = v*(t-t0)\n",
    "    x[t-t0 < 0] = 0\n",
    "    return x"
   ]
  },
  {
   "cell_type": "code",
   "execution_count": null,
   "id": "bulgarian-journalism",
   "metadata": {},
   "outputs": [],
   "source": [
    "def acc(t, a,v0=0, t0 = 0):\n",
    "    ''''\n",
    "    Accelerated motion along a line\n",
    "    '''\n",
    "    print(t0)\n",
    "    print(a)\n",
    "    x = v0*(t-t0) + 1./2.*a* (t-t0)**2\n",
    "    x[t-t0 < 0] = 0\n",
    "    return x"
   ]
  },
  {
   "cell_type": "code",
   "execution_count": null,
   "id": "federal-joining",
   "metadata": {},
   "outputs": [],
   "source": [
    "t = np.linspace(0,30,1000)"
   ]
  },
  {
   "cell_type": "code",
   "execution_count": null,
   "id": "sized-camera",
   "metadata": {},
   "outputs": [],
   "source": [
    "v = 5\n",
    "t0 =2"
   ]
  },
  {
   "cell_type": "code",
   "execution_count": null,
   "id": "final-violin",
   "metadata": {},
   "outputs": [],
   "source": [
    "x_uniform = uniform(t, v, t0=t0)"
   ]
  },
  {
   "cell_type": "code",
   "execution_count": null,
   "id": "improved-major",
   "metadata": {},
   "outputs": [],
   "source": [
    "a=2"
   ]
  },
  {
   "cell_type": "code",
   "execution_count": null,
   "id": "undefined-concept",
   "metadata": {},
   "outputs": [],
   "source": [
    "x_acc = acc(t,a)"
   ]
  },
  {
   "cell_type": "code",
   "execution_count": null,
   "id": "overhead-ancient",
   "metadata": {},
   "outputs": [],
   "source": [
    "fig, ax = plt.subplots()\n",
    "l_u, = plt.plot(t+t0,x_uniform)\n",
    "l_a, = plt.plot(t,x_acc)\n",
    "axv0 = plt.axes([0.25, 0.96, 0.50, 0.02])\n",
    "axacc = plt.axes([0.25, 0.91, 0.50, 0.02])\n",
    "\n",
    "# Slider\n",
    "sv0 = Slider(axv0, '$v_0$', 0, 30, valinit=v)\n",
    "sacc = Slider(axacc, '$a$', 0, 30, valinit=a)\n",
    "\n",
    "\n",
    "\n",
    "\n",
    "def update(val):\n",
    "    # amp is the current value of the slider\n",
    "    v0 = sv0.val\n",
    "    a=sacc.val\n",
    "    # update curve\n",
    "    x_uniform = uniform(t, v0, t0=t0)\n",
    "    x_acc = acc(t,a)\n",
    "    l_u.set_ydata(x_uniform)\n",
    "    l_a.set_ydata(x_acc)\n",
    "  \n",
    "    # redraw canvas while idle\n",
    "    fig.canvas.draw_idle()\n",
    "\n",
    "sv0.on_changed(update)\n",
    "sacc.on_changed(update)\n",
    "rax = plt.axes([0.025, 0.5, 0.15, 0.15])\n",
    "radio = RadioButtons(rax, ('Car', 'Projectile', 'Both'), active=0)\n",
    "\n",
    "\n",
    "def colorfunc(label):\n",
    "    l_a.set_color('red')\n",
    "    l_u.set_color('black')\n",
    "    if label == 'Car':\n",
    "        l_a.set_color('red')\n",
    "        l_u.set_color('white')\n",
    "    if label == 'Projectile':\n",
    "        l_a.set_color('white')\n",
    "        l_u.set_color('black') \n",
    "    fig.canvas.draw_idle()\n",
    "\n",
    "radio.on_clicked(colorfunc)\n",
    "\n",
    "# Initialize plot with correct initial active value\n",
    "colorfunc(radio.value_selected)\n",
    "\n",
    "plt.ylim(0,100)\n",
    "plt.show()"
   ]
  },
  {
   "cell_type": "code",
   "execution_count": null,
   "id": "considered-little",
   "metadata": {},
   "outputs": [],
   "source": []
  }
 ],
 "metadata": {
  "kernelspec": {
   "display_name": "Python 3",
   "language": "python",
   "name": "python3"
  },
  "language_info": {
   "codemirror_mode": {
    "name": "ipython",
    "version": 3
   },
   "file_extension": ".py",
   "mimetype": "text/x-python",
   "name": "python",
   "nbconvert_exporter": "python",
   "pygments_lexer": "ipython3",
   "version": "3.8.8"
  }
 },
 "nbformat": 4,
 "nbformat_minor": 5
}
