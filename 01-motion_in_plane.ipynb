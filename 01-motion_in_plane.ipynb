{
 "cells": [
  {
   "cell_type": "code",
   "execution_count": null,
   "id": "undefined-deadline",
   "metadata": {},
   "outputs": [],
   "source": [
    "%matplotlib notebook\n",
    "\n",
    "import numpy as np\n",
    "import math \n",
    "\n",
    "import matplotlib.pyplot as plt\n",
    "import matplotlib.animation as animation\n",
    "import matplotlib.patches as patches\n",
    "from matplotlib.widgets import Slider, RadioButtons"
   ]
  },
  {
   "cell_type": "code",
   "execution_count": null,
   "id": "fatty-connecticut",
   "metadata": {},
   "outputs": [],
   "source": [
    "def uniform(t, v, t0 = 0):\n",
    "    ''''\n",
    "    Uniform motion along a line\n",
    "    '''\n",
    "    x = v*(t-t0)\n",
    "    x[t-t0 < 0] = 0\n",
    "    return x"
   ]
  },
  {
   "cell_type": "code",
   "execution_count": null,
   "id": "bulgarian-journalism",
   "metadata": {},
   "outputs": [],
   "source": [
    "def acc(t, a,v0=0, t0 = 0):\n",
    "    ''''\n",
    "    Accelerated motion along a line\n",
    "    '''\n",
    "    print(t0)\n",
    "    print(a)\n",
    "    x = v0*(t-t0) + 1./2.*a* (t-t0)**2\n",
    "    x[t-t0 < 0] = 0\n",
    "    return x"
   ]
  },
  {
   "cell_type": "code",
   "execution_count": null,
   "id": "federal-joining",
   "metadata": {},
   "outputs": [],
   "source": [
    "t = np.linspace(0,10,100)"
   ]
  },
  {
   "cell_type": "code",
   "execution_count": null,
   "id": "sized-camera",
   "metadata": {},
   "outputs": [],
   "source": [
    "v = 5 #m/s\n",
    "t0 =2 #s\n",
    "a=2 #m/s^2"
   ]
  },
  {
   "cell_type": "code",
   "execution_count": null,
   "id": "interior-liabilities",
   "metadata": {},
   "outputs": [],
   "source": [
    "x_uniform = uniform(t, v, t0=t0)\n",
    "x_acc = acc(t,a)\n",
    "idx = np.argwhere(np.diff(np.sign(x_uniform - x_acc))).flatten()"
   ]
  },
  {
   "cell_type": "code",
   "execution_count": null,
   "id": "overhead-ancient",
   "metadata": {
    "scrolled": false
   },
   "outputs": [],
   "source": [
    "rescale=False\n",
    "fig, ax = plt.subplots(figsize=(8,8))\n",
    "l_u, = ax.plot(t,x_uniform)\n",
    "l_a, = ax.plot(t,x_acc)\n",
    "l_int, =ax.plot(t[idx], x_acc[idx], 'ro')\n",
    "axv0 = plt.axes([0.25, 0.96, 0.50, 0.02])\n",
    "axacc = plt.axes([0.25, 0.93, 0.50, 0.02])\n",
    "axt0 = plt.axes([0.25, 0.90, 0.50, 0.02])\n",
    "\n",
    "\n",
    "# Slider\n",
    "sv0 = Slider(axv0, '$v_0$', 0, 10, valinit=v)\n",
    "sacc = Slider(axacc, '$a$', 0, 10, valinit=a)\n",
    "st0 = Slider(axt0, '$t_0$', 0, 10, valinit=t0)\n",
    "\n",
    "\n",
    "\n",
    "\n",
    "def update(val):\n",
    "    # amp is the current value of the slider\n",
    "    v0 = sv0.val\n",
    "    a=sacc.val\n",
    "    t0 = st0.val\n",
    "    # update curve\n",
    "    x_uniform = uniform(t, v0, t0=t0)\n",
    "    x_acc = acc(t,a)\n",
    "    idx = np.argwhere(np.diff(np.sign(x_uniform - x_acc))).flatten()\n",
    "\n",
    "    \n",
    "    l_u.set_ydata(x_uniform)\n",
    "    l_a.set_ydata(x_acc)\n",
    "    l_int.set_xdata(t[idx])\n",
    "    l_int.set_ydata(x_acc[idx])\n",
    "    if rescale:\n",
    "        ax.relim()\n",
    "        ax.autoscale_view()\n",
    "    fig.canvas.draw_idle()\n",
    "\n",
    "sv0.on_changed(update)\n",
    "sacc.on_changed(update)\n",
    "st0.on_changed(update)\n",
    "rax = plt.axes([0.2, 0.7, 0.15, 0.15])\n",
    "radio = RadioButtons(rax, ('Car', 'Projectile', 'Both'), active=0)\n",
    "\n",
    "\n",
    "def colorfunc(label):\n",
    "    l_a.set_alpha(1)\n",
    "    l_u.set_alpha(1)\n",
    "    if label == 'Car':\n",
    "        l_a.set_alpha(1)\n",
    "        l_u.set_alpha(0)\n",
    "    if label == 'Projectile':\n",
    "        l_a.set_alpha(0)\n",
    "        l_u.set_alpha(1)\n",
    "    fig.canvas.draw_idle()\n",
    "\n",
    "radio.on_clicked(colorfunc)\n",
    "\n",
    "# Initialize plot with correct initial active value\n",
    "colorfunc(radio.value_selected)\n",
    "\n",
    "ax.set_xlabel('Time [s]')\n",
    "ax.set_ylabel('Position [m]')\n",
    "plt.show()"
   ]
  },
  {
   "cell_type": "code",
   "execution_count": null,
   "id": "incident-thesaurus",
   "metadata": {},
   "outputs": [],
   "source": []
  }
 ],
 "metadata": {
  "kernelspec": {
   "display_name": "Python 3",
   "language": "python",
   "name": "python3"
  },
  "language_info": {
   "codemirror_mode": {
    "name": "ipython",
    "version": 3
   },
   "file_extension": ".py",
   "mimetype": "text/x-python",
   "name": "python",
   "nbconvert_exporter": "python",
   "pygments_lexer": "ipython3",
   "version": "3.8.8"
  }
 },
 "nbformat": 4,
 "nbformat_minor": 5
}
